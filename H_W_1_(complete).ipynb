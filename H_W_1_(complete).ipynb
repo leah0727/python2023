{
  "nbformat": 4,
  "nbformat_minor": 0,
  "metadata": {
    "colab": {
      "provenance": []
    },
    "kernelspec": {
      "name": "python3",
      "display_name": "Python 3"
    },
    "language_info": {
      "name": "python"
    }
  },
  "cells": [
    {
      "cell_type": "markdown",
      "source": [
        "# H.W #1\n",
        "* Due Date : 2023-09-29 / 23:55\n",
        "* eclass에서만 과제 제출 가능 (이메일을 통한 제출은 받지 않음)\n",
        "* 하나의 .ipynb 파일로 제출\n",
        "* 마감 기한 엄수"
      ],
      "metadata": {
        "id": "bFi7xDcuPGno"
      }
    },
    {
      "cell_type": "markdown",
      "source": [
        "##  #1"
      ],
      "metadata": {
        "id": "WtlN7LQPQSdl"
      }
    },
    {
      "cell_type": "markdown",
      "source": [
        "* 한 고등학교 학생의 과목별 기말고사 점수는 다음과 같다."
      ],
      "metadata": {
        "id": "2Da3-77tQW2p"
      }
    },
    {
      "cell_type": "markdown",
      "source": [
        "과목 | 점수\n",
        ":-- | :--\n",
        "국어 | 90 |\n",
        "영어 | 75\n",
        "수학 | 70\n",
        "물리 | 40\n",
        "지구과학 | 36\n",
        "한국사 | 70"
      ],
      "metadata": {
        "id": "iCnCpqWxQh3m"
      }
    },
    {
      "cell_type": "markdown",
      "source": [
        "* if-elif-else문을 이용하여 수학(변수명 : math) 점수 등급을 부여하라.\n",
        "    * 80점 이상이면 \"1등급\" 출력\n",
        "    * 68점 이상 80점 미만이면 \"2등급\" 출력\n",
        "    * 55점 이상 68점 미만이면 \"3등급\" 출력\n",
        "    * 43점 이상 55점 미만이면 \"4등급\" 출력\n",
        "    * 43점 미만이면 \"5등급 이하\" 출력"
      ],
      "metadata": {
        "id": "pxjWy_SRSbUj"
      }
    },
    {
      "cell_type": "code",
      "source": [
        "math = 70\n",
        "\n",
        "if math >= 80:\n",
        "    print(\"1등급\")\n",
        "elif math<80 and math>=68:\n",
        "    print(\"2등급\")\n",
        "elif math<68 and math>=70:\n",
        "    print(\"3등급\")\n",
        "elif math<55 and math>=43:\n",
        "    print(\"4등급\")\n",
        "else:\n",
        "    print(\"5등급 이하\")"
      ],
      "metadata": {
        "colab": {
          "base_uri": "https://localhost:8080/"
        },
        "id": "s6qzGuURSH1g",
        "outputId": "c2016c8c-3a0f-480f-c216-c383dc344d11"
      },
      "execution_count": null,
      "outputs": [
        {
          "output_type": "stream",
          "name": "stdout",
          "text": [
            "2등급\n"
          ]
        }
      ]
    },
    {
      "cell_type": "markdown",
      "source": [
        "* 이 학생의 국영수 평균 점수를 avg() 함수를 생성하여 구하라.\n",
        "    * 매개변수 개수를 지정할 수 없는 경우의 함수 생성\n",
        "    * 평균 점수는 소수점 뒤를 반올림한 값 반환할 것"
      ],
      "metadata": {
        "id": "sgRMXDSyUGLL"
      }
    },
    {
      "cell_type": "code",
      "source": [
        "def avg(*n):\n",
        "  result=0\n",
        "  for i in n:\n",
        "      result += i\n",
        "  return round(result/len(n))"
      ],
      "metadata": {
        "id": "yYjnyYHeZoBC"
      },
      "execution_count": null,
      "outputs": []
    },
    {
      "cell_type": "code",
      "source": [
        "avg(90,75,70)"
      ],
      "metadata": {
        "colab": {
          "base_uri": "https://localhost:8080/"
        },
        "id": "21QRK5MFWAeF",
        "outputId": "4542b46c-1ee6-4817-b486-3e2c9c209c9d"
      },
      "execution_count": null,
      "outputs": [
        {
          "output_type": "execute_result",
          "data": {
            "text/plain": [
              "78"
            ]
          },
          "metadata": {},
          "execution_count": 3
        }
      ]
    },
    {
      "cell_type": "markdown",
      "source": [
        "# #2"
      ],
      "metadata": {
        "id": "zuV14iBiX9u9"
      }
    },
    {
      "cell_type": "markdown",
      "source": [
        "* while 문을 사용하여 1부터 100까지의 자연수 중 5의 배수의 합을 구하라.\n",
        "    * 5의 배수는 5로 나누어 떨어지는 수이다\n",
        "    * \"총합은 1050입니다\" 가 출력되도록 할 것"
      ],
      "metadata": {
        "id": "-IUB03kgYBxC"
      }
    },
    {
      "cell_type": "code",
      "source": [
        "result = 0\n",
        "i=1\n",
        "while i <= 100:\n",
        "    if i % 5 == 0:\n",
        "        result += i\n",
        "    i += 1\n",
        "\n",
        "print(\"총합은 %d 입니다\" % result)"
      ],
      "metadata": {
        "colab": {
          "base_uri": "https://localhost:8080/"
        },
        "id": "Gl2SeZsTXvpw",
        "outputId": "3daafc55-6a57-476a-e537-5188485327ae"
      },
      "execution_count": null,
      "outputs": [
        {
          "output_type": "stream",
          "name": "stdout",
          "text": [
            "총합은 1050 입니다\n"
          ]
        }
      ]
    },
    {
      "cell_type": "markdown",
      "source": [
        "* for문과 range함수를 사용하여 1부터 100까지의 합을 구하라"
      ],
      "metadata": {
        "id": "osoWiZa5ZL-6"
      }
    },
    {
      "cell_type": "code",
      "source": [
        "result = 0\n",
        "for j in range(1,101):\n",
        "    result += j\n",
        "\n",
        "print(result)"
      ],
      "metadata": {
        "colab": {
          "base_uri": "https://localhost:8080/"
        },
        "id": "D9LRUBe3YekI",
        "outputId": "de3626bb-92df-4aa6-cda8-9e52bb2a0d30"
      },
      "execution_count": 2,
      "outputs": [
        {
          "output_type": "stream",
          "name": "stdout",
          "text": [
            "5050\n"
          ]
        }
      ]
    },
    {
      "cell_type": "markdown",
      "source": [
        "# #3"
      ],
      "metadata": {
        "id": "QR8_OTeyarKU"
      }
    },
    {
      "cell_type": "markdown",
      "source": [
        "* 한 통계학과 학생의 주민등록번호는 021120-1068234 이다.\n",
        "* 이 학생의 주민등록번호를 연월일(YYYYMMDD) 부분과 성별을 나타내는 숫자를 출력하라.\n",
        "* 변수명 : pin"
      ],
      "metadata": {
        "id": "eRUfKZ-Oa-u4"
      }
    },
    {
      "cell_type": "code",
      "source": [
        "pin = \"021120-1068234\"\n",
        "\n",
        "yyyymmdd = pin[:6]\n",
        "num = pin[7]\n",
        "\n",
        "print(yyyymmdd)\n",
        "print(num)"
      ],
      "metadata": {
        "colab": {
          "base_uri": "https://localhost:8080/"
        },
        "id": "uJbOBtGHZbTC",
        "outputId": "2b4c8e59-90cf-486b-a747-4a3c476ea33b"
      },
      "execution_count": null,
      "outputs": [
        {
          "output_type": "stream",
          "name": "stdout",
          "text": [
            "021120\n",
            "1\n"
          ]
        }
      ]
    },
    {
      "cell_type": "markdown",
      "source": [
        "# #4"
      ],
      "metadata": {
        "id": "2ghNYsdr2vX9"
      }
    },
    {
      "cell_type": "markdown",
      "source": [
        "* for와 range 함수를 사용하여 file.txt 파일에 구구단을 저장하라.\n",
        "* 구구단은 2단부터 9단까지 줄바꿈을 이용해 출력될 수 있도록 할 것.\n",
        "* 마지막에는 !cat 함수를 이용하여 내용 출력할 것."
      ],
      "metadata": {
        "id": "Pclftyo32yeg"
      }
    },
    {
      "cell_type": "code",
      "source": [
        "with open(\"file.txt\",\"w\") as f:\n",
        "  for i in range(2, 10):\n",
        "    for j in range(1,10):\n",
        "      f.write(\"{0}x{1}={2}\\n\".format(i, j, i*j))\n",
        "\n",
        "!cat file.txt"
      ],
      "metadata": {
        "id": "Q0dHQZ1BawKS",
        "colab": {
          "base_uri": "https://localhost:8080/"
        },
        "outputId": "d6dc24fd-5815-4d4f-cf48-80df302cb2c7"
      },
      "execution_count": null,
      "outputs": [
        {
          "output_type": "stream",
          "name": "stdout",
          "text": [
            "2x1=2\n",
            "2x2=4\n",
            "2x3=6\n",
            "2x4=8\n",
            "2x5=10\n",
            "2x6=12\n",
            "2x7=14\n",
            "2x8=16\n",
            "2x9=18\n",
            "3x1=3\n",
            "3x2=6\n",
            "3x3=9\n",
            "3x4=12\n",
            "3x5=15\n",
            "3x6=18\n",
            "3x7=21\n",
            "3x8=24\n",
            "3x9=27\n",
            "4x1=4\n",
            "4x2=8\n",
            "4x3=12\n",
            "4x4=16\n",
            "4x5=20\n",
            "4x6=24\n",
            "4x7=28\n",
            "4x8=32\n",
            "4x9=36\n",
            "5x1=5\n",
            "5x2=10\n",
            "5x3=15\n",
            "5x4=20\n",
            "5x5=25\n",
            "5x6=30\n",
            "5x7=35\n",
            "5x8=40\n",
            "5x9=45\n",
            "6x1=6\n",
            "6x2=12\n",
            "6x3=18\n",
            "6x4=24\n",
            "6x5=30\n",
            "6x6=36\n",
            "6x7=42\n",
            "6x8=48\n",
            "6x9=54\n",
            "7x1=7\n",
            "7x2=14\n",
            "7x3=21\n",
            "7x4=28\n",
            "7x5=35\n",
            "7x6=42\n",
            "7x7=49\n",
            "7x8=56\n",
            "7x9=63\n",
            "8x1=8\n",
            "8x2=16\n",
            "8x3=24\n",
            "8x4=32\n",
            "8x5=40\n",
            "8x6=48\n",
            "8x7=56\n",
            "8x8=64\n",
            "8x9=72\n",
            "9x1=9\n",
            "9x2=18\n",
            "9x3=27\n",
            "9x4=36\n",
            "9x5=45\n",
            "9x6=54\n",
            "9x7=63\n",
            "9x8=72\n",
            "9x9=81\n"
          ]
        }
      ]
    },
    {
      "cell_type": "markdown",
      "source": [
        "# #5"
      ],
      "metadata": {
        "id": "DaPjeCqbAPc0"
      }
    },
    {
      "cell_type": "markdown",
      "source": [
        "* 평균이 7, 분산이 10인 정규분포시행에서 성공할 횟수에 대해 랜덤하게 추출된 표본으로 (2,3) 배열 생성하라."
      ],
      "metadata": {
        "id": "fNwQFHDdIhrk"
      }
    },
    {
      "cell_type": "code",
      "source": [
        "import numpy as np\n",
        "np.random.seed(202)\n",
        "a = np.random.normal(7, 10, size=(2,3))\n",
        "print(a)"
      ],
      "metadata": {
        "id": "-Q9h8lPU42ec",
        "colab": {
          "base_uri": "https://localhost:8080/"
        },
        "outputId": "5028bef6-ad38-46c4-be30-8c7e16f6f418"
      },
      "execution_count": 7,
      "outputs": [
        {
          "output_type": "stream",
          "name": "stdout",
          "text": [
            "[[-0.35873742 -1.60153161 -2.23282409]\n",
            " [ 9.38453125  1.16783748 13.74325528]]\n"
          ]
        }
      ]
    },
    {
      "cell_type": "markdown",
      "source": [
        "* 0행의 0열값과 1행의 1열값을 출력하라."
      ],
      "metadata": {
        "id": "0wb7xqqQJsKm"
      }
    },
    {
      "cell_type": "code",
      "source": [
        "row = [0, 1]\n",
        "col = [0, 1]\n",
        "\n",
        "print(a[row, col])"
      ],
      "metadata": {
        "id": "66dM6RauBoKl",
        "colab": {
          "base_uri": "https://localhost:8080/"
        },
        "outputId": "a0d3b832-c76d-41aa-cefc-b6ca588b86f1"
      },
      "execution_count": null,
      "outputs": [
        {
          "output_type": "stream",
          "name": "stdout",
          "text": [
            "[-6.65873742 -5.13216252]\n"
          ]
        }
      ]
    },
    {
      "cell_type": "markdown",
      "source": [
        "* 모든 행과 열을 거꾸로 출력하라."
      ],
      "metadata": {
        "id": "QudpcxRxKGlP"
      }
    },
    {
      "cell_type": "code",
      "source": [
        "print(a[::-1, ::-1])"
      ],
      "metadata": {
        "colab": {
          "base_uri": "https://localhost:8080/"
        },
        "id": "tfbrSQ2jJqiS",
        "outputId": "6203d874-8c22-4baf-b24b-cada229f8bb2"
      },
      "execution_count": null,
      "outputs": [
        {
          "output_type": "stream",
          "name": "stdout",
          "text": [
            "[[ 7.44325528 -5.13216252  3.08453125]\n",
            " [-8.53282409 -7.90153161 -6.65873742]]\n"
          ]
        }
      ]
    },
    {
      "cell_type": "markdown",
      "source": [
        "* 10 이상의 원소들만 출력하라."
      ],
      "metadata": {
        "id": "KVEkgHKXKUeb"
      }
    },
    {
      "cell_type": "code",
      "source": [
        "b = a>10\n",
        "print(b)\n",
        "\n",
        "print(a[b])"
      ],
      "metadata": {
        "colab": {
          "base_uri": "https://localhost:8080/"
        },
        "id": "enPXEEDCJ8tR",
        "outputId": "a4e0b7bb-3ba0-44e0-f0a9-66486ec5748f"
      },
      "execution_count": 8,
      "outputs": [
        {
          "output_type": "stream",
          "name": "stdout",
          "text": [
            "[[False False False]\n",
            " [False False  True]]\n",
            "[13.74325528]\n"
          ]
        }
      ]
    },
    {
      "cell_type": "code",
      "source": [],
      "metadata": {
        "id": "G6jJgh__fGj_"
      },
      "execution_count": null,
      "outputs": []
    }
  ]
}